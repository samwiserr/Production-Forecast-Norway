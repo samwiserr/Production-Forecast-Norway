{
 "cells": [
  {
   "cell_type": "markdown",
   "id": "8ad62d4b",
   "metadata": {},
   "source": [
    "# Production Forecast for Hydrocarbon in Norway\n",
    "\n",
    "This notebook contains steps required to perform simple production forecast for hydrocarbon production in Norway. The dataset to be used can be gotten from https://www.norskpetroleum.no/en/production-and-exports/production-forecasts/ which contains Historical and expected production in Norway, 1970-2026. \n",
    "\n",
    "I will try to use the timeseries approach to forecast productions up to Year 2030. The steps include:\n",
    "\n",
    "    1.Importing libraries\n",
    "    2.Loading the csv file\n",
    "    3.Working with dates\n",
    "    4.Exploratory data analysis\n",
    "    5.Preprocessing\n",
    "    6.Model Building"
   ]
  },
  {
   "cell_type": "code",
   "execution_count": 268,
   "id": "dc832bde",
   "metadata": {},
   "outputs": [],
   "source": [
    "import pandas as pd\n",
    "import numpy as np\n",
    "import matplotlib.pyplot as plt\n",
    "import seaborn as sns\n",
    "import math\n",
    "import datetime\n",
    "%matplotlib inline"
   ]
  },
  {
   "cell_type": "code",
   "execution_count": 269,
   "id": "3f2486e9",
   "metadata": {},
   "outputs": [],
   "source": [
    "train_data = pd.read_csv('new prediction.csv', dtype = {'Date': object})"
   ]
  },
  {
   "cell_type": "code",
   "execution_count": 368,
   "id": "acd9aff3",
   "metadata": {},
   "outputs": [
    {
     "name": "stdout",
     "output_type": "stream",
     "text": [
      "Date\n",
      "1970-01-01      0.00\n",
      "1971-01-01      0.36\n",
      "1972-01-01      1.93\n",
      "1973-01-01      1.87\n",
      "1974-01-01      2.01\n",
      "1975-01-01     11.00\n",
      "1976-01-01     16.23\n",
      "1977-01-01     16.64\n",
      "1978-01-01     20.64\n",
      "1979-01-01     22.48\n",
      "1980-01-01     28.22\n",
      "1981-01-01     27.48\n",
      "1982-01-01     28.53\n",
      "1983-01-01     35.65\n",
      "1984-01-01     41.09\n",
      "1985-01-01     44.76\n",
      "1986-01-01     48.77\n",
      "1987-01-01     56.96\n",
      "1988-01-01     64.72\n",
      "1989-01-01     85.98\n",
      "1990-01-01     94.54\n",
      "1991-01-01    108.51\n",
      "1992-01-01    124.00\n",
      "1993-01-01    131.84\n",
      "1994-01-01    146.28\n",
      "1995-01-01    156.78\n",
      "1996-01-01    175.50\n",
      "1997-01-01    175.91\n",
      "1998-01-01    168.74\n",
      "1999-01-01    168.69\n",
      "2000-01-01    181.18\n",
      "2001-01-01    180.88\n",
      "2002-01-01    173.65\n",
      "2003-01-01    165.48\n",
      "2004-01-01    162.78\n",
      "2005-01-01    148.14\n",
      "2006-01-01    136.58\n",
      "2007-01-01    128.28\n",
      "2008-01-01    122.66\n",
      "2009-01-01    114.94\n",
      "2010-01-01    104.39\n",
      "2011-01-01     97.46\n",
      "2012-01-01     89.20\n",
      "2013-01-01     84.94\n",
      "2014-01-01     87.70\n",
      "2015-01-01     90.85\n",
      "2016-01-01     93.90\n",
      "2017-01-01     92.28\n",
      "2018-01-01     86.27\n",
      "2019-01-01     81.73\n",
      "2020-01-01     98.39\n",
      "2021-01-01    102.73\n",
      "Name: Oil, dtype: float64\n"
     ]
    },
    {
     "data": {
      "text/html": [
       "<div>\n",
       "<style scoped>\n",
       "    .dataframe tbody tr th:only-of-type {\n",
       "        vertical-align: middle;\n",
       "    }\n",
       "\n",
       "    .dataframe tbody tr th {\n",
       "        vertical-align: top;\n",
       "    }\n",
       "\n",
       "    .dataframe thead th {\n",
       "        text-align: right;\n",
       "    }\n",
       "</style>\n",
       "<table border=\"1\" class=\"dataframe\">\n",
       "  <thead>\n",
       "    <tr style=\"text-align: right;\">\n",
       "      <th></th>\n",
       "      <th>Oil</th>\n",
       "      <th>Condensate</th>\n",
       "      <th>NGL</th>\n",
       "      <th>Gas(40MJ)</th>\n",
       "      <th>Total</th>\n",
       "      <th>Total liquids</th>\n",
       "      <th>Total per day</th>\n",
       "      <th>Liquids per day</th>\n",
       "      <th>Natural gas per day</th>\n",
       "      <th>Year</th>\n",
       "    </tr>\n",
       "    <tr>\n",
       "      <th>Date</th>\n",
       "      <th></th>\n",
       "      <th></th>\n",
       "      <th></th>\n",
       "      <th></th>\n",
       "      <th></th>\n",
       "      <th></th>\n",
       "      <th></th>\n",
       "      <th></th>\n",
       "      <th></th>\n",
       "      <th></th>\n",
       "    </tr>\n",
       "  </thead>\n",
       "  <tbody>\n",
       "    <tr>\n",
       "      <th>1970-01-01</th>\n",
       "      <td>0.00</td>\n",
       "      <td>0.0</td>\n",
       "      <td>0.0</td>\n",
       "      <td>0.0</td>\n",
       "      <td>0.00</td>\n",
       "      <td>0.00</td>\n",
       "      <td>0.00</td>\n",
       "      <td>0.00</td>\n",
       "      <td>0.0</td>\n",
       "      <td>1970</td>\n",
       "    </tr>\n",
       "    <tr>\n",
       "      <th>1971-01-01</th>\n",
       "      <td>0.36</td>\n",
       "      <td>0.0</td>\n",
       "      <td>0.0</td>\n",
       "      <td>0.0</td>\n",
       "      <td>0.36</td>\n",
       "      <td>0.36</td>\n",
       "      <td>0.01</td>\n",
       "      <td>0.01</td>\n",
       "      <td>0.0</td>\n",
       "      <td>1971</td>\n",
       "    </tr>\n",
       "    <tr>\n",
       "      <th>1972-01-01</th>\n",
       "      <td>1.93</td>\n",
       "      <td>0.0</td>\n",
       "      <td>0.0</td>\n",
       "      <td>0.0</td>\n",
       "      <td>1.93</td>\n",
       "      <td>1.93</td>\n",
       "      <td>0.03</td>\n",
       "      <td>0.03</td>\n",
       "      <td>0.0</td>\n",
       "      <td>1972</td>\n",
       "    </tr>\n",
       "    <tr>\n",
       "      <th>1973-01-01</th>\n",
       "      <td>1.87</td>\n",
       "      <td>0.0</td>\n",
       "      <td>0.0</td>\n",
       "      <td>0.0</td>\n",
       "      <td>1.87</td>\n",
       "      <td>1.87</td>\n",
       "      <td>0.03</td>\n",
       "      <td>0.03</td>\n",
       "      <td>0.0</td>\n",
       "      <td>1973</td>\n",
       "    </tr>\n",
       "    <tr>\n",
       "      <th>1974-01-01</th>\n",
       "      <td>2.01</td>\n",
       "      <td>0.0</td>\n",
       "      <td>0.0</td>\n",
       "      <td>0.0</td>\n",
       "      <td>2.01</td>\n",
       "      <td>2.01</td>\n",
       "      <td>0.03</td>\n",
       "      <td>0.03</td>\n",
       "      <td>0.0</td>\n",
       "      <td>1974</td>\n",
       "    </tr>\n",
       "  </tbody>\n",
       "</table>\n",
       "</div>"
      ],
      "text/plain": [
       "             Oil  Condensate  NGL  Gas(40MJ)  Total  Total liquids  \\\n",
       "Date                                                                 \n",
       "1970-01-01  0.00         0.0  0.0        0.0   0.00           0.00   \n",
       "1971-01-01  0.36         0.0  0.0        0.0   0.36           0.36   \n",
       "1972-01-01  1.93         0.0  0.0        0.0   1.93           1.93   \n",
       "1973-01-01  1.87         0.0  0.0        0.0   1.87           1.87   \n",
       "1974-01-01  2.01         0.0  0.0        0.0   2.01           2.01   \n",
       "\n",
       "            Total per day  Liquids per day  Natural gas per day  Year  \n",
       "Date                                                                   \n",
       "1970-01-01           0.00             0.00                  0.0  1970  \n",
       "1971-01-01           0.01             0.01                  0.0  1971  \n",
       "1972-01-01           0.03             0.03                  0.0  1972  \n",
       "1973-01-01           0.03             0.03                  0.0  1973  \n",
       "1974-01-01           0.03             0.03                  0.0  1974  "
      ]
     },
     "execution_count": 368,
     "metadata": {},
     "output_type": "execute_result"
    }
   ],
   "source": [
    "print(train_data['Oil'])\n",
    "train_data.head()"
   ]
  },
  {
   "cell_type": "code",
   "execution_count": 271,
   "id": "f171f442",
   "metadata": {},
   "outputs": [
    {
     "name": "stdout",
     "output_type": "stream",
     "text": [
      "<class 'pandas.core.frame.DataFrame'>\n",
      "RangeIndex: 52 entries, 0 to 51\n",
      "Data columns (total 10 columns):\n",
      " #   Column               Non-Null Count  Dtype  \n",
      "---  ------               --------------  -----  \n",
      " 0   Date                 52 non-null     object \n",
      " 1   Oil                  52 non-null     float64\n",
      " 2   Condensate           52 non-null     float64\n",
      " 3   NGL                  52 non-null     float64\n",
      " 4   Gas(40MJ)            52 non-null     float64\n",
      " 5   Total                52 non-null     float64\n",
      " 6   Total liquids        52 non-null     float64\n",
      " 7   Total per day        52 non-null     float64\n",
      " 8   Liquids per day      52 non-null     float64\n",
      " 9   Natural gas per day  52 non-null     float64\n",
      "dtypes: float64(9), object(1)\n",
      "memory usage: 4.2+ KB\n"
     ]
    }
   ],
   "source": [
    "train_data.info()"
   ]
  },
  {
   "cell_type": "code",
   "execution_count": 272,
   "id": "e468c484",
   "metadata": {},
   "outputs": [
    {
     "data": {
      "text/html": [
       "<div>\n",
       "<style scoped>\n",
       "    .dataframe tbody tr th:only-of-type {\n",
       "        vertical-align: middle;\n",
       "    }\n",
       "\n",
       "    .dataframe tbody tr th {\n",
       "        vertical-align: top;\n",
       "    }\n",
       "\n",
       "    .dataframe thead th {\n",
       "        text-align: right;\n",
       "    }\n",
       "</style>\n",
       "<table border=\"1\" class=\"dataframe\">\n",
       "  <thead>\n",
       "    <tr style=\"text-align: right;\">\n",
       "      <th></th>\n",
       "      <th>Oil</th>\n",
       "      <th>Condensate</th>\n",
       "      <th>NGL</th>\n",
       "      <th>Gas(40MJ)</th>\n",
       "      <th>Total</th>\n",
       "      <th>Total liquids</th>\n",
       "      <th>Total per day</th>\n",
       "      <th>Liquids per day</th>\n",
       "      <th>Natural gas per day</th>\n",
       "    </tr>\n",
       "  </thead>\n",
       "  <tbody>\n",
       "    <tr>\n",
       "      <th>count</th>\n",
       "      <td>52.000000</td>\n",
       "      <td>52.000000</td>\n",
       "      <td>52.000000</td>\n",
       "      <td>52.000000</td>\n",
       "      <td>52.000000</td>\n",
       "      <td>52.000000</td>\n",
       "      <td>52.000000</td>\n",
       "      <td>52.000000</td>\n",
       "      <td>52.000000</td>\n",
       "    </tr>\n",
       "    <tr>\n",
       "      <th>mean</th>\n",
       "      <td>89.048462</td>\n",
       "      <td>2.359615</td>\n",
       "      <td>8.735769</td>\n",
       "      <td>53.212692</td>\n",
       "      <td>153.356538</td>\n",
       "      <td>100.143846</td>\n",
       "      <td>2.640962</td>\n",
       "      <td>1.724423</td>\n",
       "      <td>0.916538</td>\n",
       "    </tr>\n",
       "    <tr>\n",
       "      <th>std</th>\n",
       "      <td>57.736742</td>\n",
       "      <td>2.777310</td>\n",
       "      <td>7.035202</td>\n",
       "      <td>41.533712</td>\n",
       "      <td>93.626696</td>\n",
       "      <td>64.114306</td>\n",
       "      <td>1.612558</td>\n",
       "      <td>1.103439</td>\n",
       "      <td>0.715352</td>\n",
       "    </tr>\n",
       "    <tr>\n",
       "      <th>min</th>\n",
       "      <td>0.000000</td>\n",
       "      <td>0.000000</td>\n",
       "      <td>0.000000</td>\n",
       "      <td>0.000000</td>\n",
       "      <td>0.000000</td>\n",
       "      <td>0.000000</td>\n",
       "      <td>0.000000</td>\n",
       "      <td>0.000000</td>\n",
       "      <td>0.000000</td>\n",
       "    </tr>\n",
       "    <tr>\n",
       "      <th>25%</th>\n",
       "      <td>33.870000</td>\n",
       "      <td>0.050000</td>\n",
       "      <td>2.590000</td>\n",
       "      <td>25.452500</td>\n",
       "      <td>60.242500</td>\n",
       "      <td>36.492500</td>\n",
       "      <td>1.037500</td>\n",
       "      <td>0.627500</td>\n",
       "      <td>0.440000</td>\n",
       "    </tr>\n",
       "    <tr>\n",
       "      <th>50%</th>\n",
       "      <td>91.565000</td>\n",
       "      <td>1.470000</td>\n",
       "      <td>7.175000</td>\n",
       "      <td>33.915000</td>\n",
       "      <td>205.335000</td>\n",
       "      <td>112.250000</td>\n",
       "      <td>3.535000</td>\n",
       "      <td>1.935000</td>\n",
       "      <td>0.585000</td>\n",
       "    </tr>\n",
       "    <tr>\n",
       "      <th>75%</th>\n",
       "      <td>133.025000</td>\n",
       "      <td>4.237500</td>\n",
       "      <td>16.390000</td>\n",
       "      <td>99.670000</td>\n",
       "      <td>230.737500</td>\n",
       "      <td>149.980000</td>\n",
       "      <td>3.972500</td>\n",
       "      <td>2.582500</td>\n",
       "      <td>1.715000</td>\n",
       "    </tr>\n",
       "    <tr>\n",
       "      <th>max</th>\n",
       "      <td>181.180000</td>\n",
       "      <td>10.340000</td>\n",
       "      <td>20.390000</td>\n",
       "      <td>122.370000</td>\n",
       "      <td>264.190000</td>\n",
       "      <td>197.470000</td>\n",
       "      <td>4.540000</td>\n",
       "      <td>3.400000</td>\n",
       "      <td>2.110000</td>\n",
       "    </tr>\n",
       "  </tbody>\n",
       "</table>\n",
       "</div>"
      ],
      "text/plain": [
       "              Oil  Condensate        NGL   Gas(40MJ)       Total  \\\n",
       "count   52.000000   52.000000  52.000000   52.000000   52.000000   \n",
       "mean    89.048462    2.359615   8.735769   53.212692  153.356538   \n",
       "std     57.736742    2.777310   7.035202   41.533712   93.626696   \n",
       "min      0.000000    0.000000   0.000000    0.000000    0.000000   \n",
       "25%     33.870000    0.050000   2.590000   25.452500   60.242500   \n",
       "50%     91.565000    1.470000   7.175000   33.915000  205.335000   \n",
       "75%    133.025000    4.237500  16.390000   99.670000  230.737500   \n",
       "max    181.180000   10.340000  20.390000  122.370000  264.190000   \n",
       "\n",
       "       Total liquids  Total per day  Liquids per day  Natural gas per day  \n",
       "count      52.000000      52.000000        52.000000            52.000000  \n",
       "mean      100.143846       2.640962         1.724423             0.916538  \n",
       "std        64.114306       1.612558         1.103439             0.715352  \n",
       "min         0.000000       0.000000         0.000000             0.000000  \n",
       "25%        36.492500       1.037500         0.627500             0.440000  \n",
       "50%       112.250000       3.535000         1.935000             0.585000  \n",
       "75%       149.980000       3.972500         2.582500             1.715000  \n",
       "max       197.470000       4.540000         3.400000             2.110000  "
      ]
     },
     "execution_count": 272,
     "metadata": {},
     "output_type": "execute_result"
    }
   ],
   "source": [
    "train_data.describe()"
   ]
  },
  {
   "cell_type": "code",
   "execution_count": 273,
   "id": "4c687fff",
   "metadata": {
    "scrolled": true
   },
   "outputs": [
    {
     "name": "stdout",
     "output_type": "stream",
     "text": [
      "<class 'pandas.core.frame.DataFrame'>\n",
      "DatetimeIndex: 52 entries, 1970-01-01 to 2021-01-01\n",
      "Data columns (total 9 columns):\n",
      " #   Column               Non-Null Count  Dtype  \n",
      "---  ------               --------------  -----  \n",
      " 0   Oil                  52 non-null     float64\n",
      " 1   Condensate           52 non-null     float64\n",
      " 2   NGL                  52 non-null     float64\n",
      " 3   Gas(40MJ)            52 non-null     float64\n",
      " 4   Total                52 non-null     float64\n",
      " 5   Total liquids        52 non-null     float64\n",
      " 6   Total per day        52 non-null     float64\n",
      " 7   Liquids per day      52 non-null     float64\n",
      " 8   Natural gas per day  52 non-null     float64\n",
      "dtypes: float64(9)\n",
      "memory usage: 4.1 KB\n"
     ]
    }
   ],
   "source": [
    "train_data['Date'] = pd.to_datetime(train_data['Date'])\n",
    "train_data.set_index('Date', inplace=True)\n",
    "train_data.head()\n",
    "train_data.info()"
   ]
  },
  {
   "cell_type": "code",
   "execution_count": 274,
   "id": "32bb8b0f",
   "metadata": {},
   "outputs": [],
   "source": [
    "train_data['Year'] = train_data.index.year"
   ]
  },
  {
   "cell_type": "code",
   "execution_count": 275,
   "id": "b9b4a5de",
   "metadata": {},
   "outputs": [
    {
     "data": {
      "text/html": [
       "<div>\n",
       "<style scoped>\n",
       "    .dataframe tbody tr th:only-of-type {\n",
       "        vertical-align: middle;\n",
       "    }\n",
       "\n",
       "    .dataframe tbody tr th {\n",
       "        vertical-align: top;\n",
       "    }\n",
       "\n",
       "    .dataframe thead th {\n",
       "        text-align: right;\n",
       "    }\n",
       "</style>\n",
       "<table border=\"1\" class=\"dataframe\">\n",
       "  <thead>\n",
       "    <tr style=\"text-align: right;\">\n",
       "      <th></th>\n",
       "      <th>Oil</th>\n",
       "      <th>Condensate</th>\n",
       "      <th>NGL</th>\n",
       "      <th>Gas(40MJ)</th>\n",
       "      <th>Total</th>\n",
       "      <th>Total liquids</th>\n",
       "      <th>Total per day</th>\n",
       "      <th>Liquids per day</th>\n",
       "      <th>Natural gas per day</th>\n",
       "      <th>Year</th>\n",
       "    </tr>\n",
       "    <tr>\n",
       "      <th>Date</th>\n",
       "      <th></th>\n",
       "      <th></th>\n",
       "      <th></th>\n",
       "      <th></th>\n",
       "      <th></th>\n",
       "      <th></th>\n",
       "      <th></th>\n",
       "      <th></th>\n",
       "      <th></th>\n",
       "      <th></th>\n",
       "    </tr>\n",
       "  </thead>\n",
       "  <tbody>\n",
       "    <tr>\n",
       "      <th>1970-01-01</th>\n",
       "      <td>0.00</td>\n",
       "      <td>0.0</td>\n",
       "      <td>0.0</td>\n",
       "      <td>0.0</td>\n",
       "      <td>0.00</td>\n",
       "      <td>0.00</td>\n",
       "      <td>0.00</td>\n",
       "      <td>0.00</td>\n",
       "      <td>0.0</td>\n",
       "      <td>1970</td>\n",
       "    </tr>\n",
       "    <tr>\n",
       "      <th>1971-01-01</th>\n",
       "      <td>0.36</td>\n",
       "      <td>0.0</td>\n",
       "      <td>0.0</td>\n",
       "      <td>0.0</td>\n",
       "      <td>0.36</td>\n",
       "      <td>0.36</td>\n",
       "      <td>0.01</td>\n",
       "      <td>0.01</td>\n",
       "      <td>0.0</td>\n",
       "      <td>1971</td>\n",
       "    </tr>\n",
       "    <tr>\n",
       "      <th>1972-01-01</th>\n",
       "      <td>1.93</td>\n",
       "      <td>0.0</td>\n",
       "      <td>0.0</td>\n",
       "      <td>0.0</td>\n",
       "      <td>1.93</td>\n",
       "      <td>1.93</td>\n",
       "      <td>0.03</td>\n",
       "      <td>0.03</td>\n",
       "      <td>0.0</td>\n",
       "      <td>1972</td>\n",
       "    </tr>\n",
       "    <tr>\n",
       "      <th>1973-01-01</th>\n",
       "      <td>1.87</td>\n",
       "      <td>0.0</td>\n",
       "      <td>0.0</td>\n",
       "      <td>0.0</td>\n",
       "      <td>1.87</td>\n",
       "      <td>1.87</td>\n",
       "      <td>0.03</td>\n",
       "      <td>0.03</td>\n",
       "      <td>0.0</td>\n",
       "      <td>1973</td>\n",
       "    </tr>\n",
       "    <tr>\n",
       "      <th>1974-01-01</th>\n",
       "      <td>2.01</td>\n",
       "      <td>0.0</td>\n",
       "      <td>0.0</td>\n",
       "      <td>0.0</td>\n",
       "      <td>2.01</td>\n",
       "      <td>2.01</td>\n",
       "      <td>0.03</td>\n",
       "      <td>0.03</td>\n",
       "      <td>0.0</td>\n",
       "      <td>1974</td>\n",
       "    </tr>\n",
       "  </tbody>\n",
       "</table>\n",
       "</div>"
      ],
      "text/plain": [
       "             Oil  Condensate  NGL  Gas(40MJ)  Total  Total liquids  \\\n",
       "Date                                                                 \n",
       "1970-01-01  0.00         0.0  0.0        0.0   0.00           0.00   \n",
       "1971-01-01  0.36         0.0  0.0        0.0   0.36           0.36   \n",
       "1972-01-01  1.93         0.0  0.0        0.0   1.93           1.93   \n",
       "1973-01-01  1.87         0.0  0.0        0.0   1.87           1.87   \n",
       "1974-01-01  2.01         0.0  0.0        0.0   2.01           2.01   \n",
       "\n",
       "            Total per day  Liquids per day  Natural gas per day  Year  \n",
       "Date                                                                   \n",
       "1970-01-01           0.00             0.00                  0.0  1970  \n",
       "1971-01-01           0.01             0.01                  0.0  1971  \n",
       "1972-01-01           0.03             0.03                  0.0  1972  \n",
       "1973-01-01           0.03             0.03                  0.0  1973  \n",
       "1974-01-01           0.03             0.03                  0.0  1974  "
      ]
     },
     "execution_count": 275,
     "metadata": {},
     "output_type": "execute_result"
    }
   ],
   "source": [
    "train_data.head()"
   ]
  },
  {
   "cell_type": "code",
   "execution_count": 276,
   "id": "9423bfa7",
   "metadata": {},
   "outputs": [
    {
     "data": {
      "image/png": "[encoded data removed]",
      "text/plain": [
       "<Figure size 792x576 with 1 Axes>"
      ]
     },
     "metadata": {
      "needs_background": "light"
     },
     "output_type": "display_data"
    }
   ],
   "source": [
    "plt.figure(figsize=(11, 8)) # resizing the plot\n",
    "train_data['Total'].plot()\n",
    "\n",
    "\n",
    "plt.title('Production History') # adding a title\n",
    "plt.xlabel('Date') # x label\n",
    "plt.ylabel('Total') # y label\n",
    "plt.show()"
   ]
  },
  {
   "cell_type": "code",
   "execution_count": 330,
   "id": "6f8e8171",
   "metadata": {},
   "outputs": [
    {
     "data": {
      "text/plain": [
       "<AxesSubplot:>"
      ]
     },
     "execution_count": 330,
     "metadata": {},
     "output_type": "execute_result"
    },
    {
     "data": {
      "image/png": "[encoded data removed]",
      "text/plain": [
       "<Figure size 432x288 with 1 Axes>"
      ]
     },
     "metadata": {
      "needs_background": "light"
     },
     "output_type": "display_data"
    }
   ],
   "source": [
    "train_data.boxplot(column=['Total', 'Total liquids'])"
   ]
  },
  {
   "cell_type": "code",
   "execution_count": 331,
   "id": "4c121f56",
   "metadata": {},
   "outputs": [
    {
     "data": {
      "text/plain": [
       "<Figure size 1152x576 with 0 Axes>"
      ]
     },
     "metadata": {},
     "output_type": "display_data"
    },
    {
     "data": {
      "image/png": "[encoded data removed]",
      "text/plain": [
       "<Figure size 792x648 with 4 Axes>"
      ]
     },
     "metadata": {
      "needs_background": "light"
     },
     "output_type": "display_data"
    }
   ],
   "source": [
    "plt.figure(figsize=(16, 8)) # resizing the plot\n",
    "cols = ['Oil', 'Condensate', 'NGL', 'Gas(40MJ)']\n",
    "axes = train_data[cols].plot(figsize=(11, 9), subplots = True)\n",
    "plt.show()"
   ]
  },
  {
   "cell_type": "code",
   "execution_count": 332,
   "id": "a0bff1a5",
   "metadata": {},
   "outputs": [
    {
     "data": {
      "image/png": "[encoded data removed]",
      "text/plain": [
       "<Figure size 432x288 with 1 Axes>"
      ]
     },
     "metadata": {
      "needs_background": "light"
     },
     "output_type": "display_data"
    },
    {
     "data": {
      "image/png": "[encoded data removed]",
      "text/plain": [
       "<Figure size 432x288 with 1 Axes>"
      ]
     },
     "metadata": {
      "needs_background": "light"
     },
     "output_type": "display_data"
    },
    {
     "data": {
      "image/png": "[encoded data removed]",
      "text/plain": [
       "<Figure size 432x288 with 1 Axes>"
      ]
     },
     "metadata": {
      "needs_background": "light"
     },
     "output_type": "display_data"
    },
    {
     "data": {
      "image/png": "[encoded data removed]",
      "text/plain": [
       "<Figure size 432x288 with 1 Axes>"
      ]
     },
     "metadata": {
      "needs_background": "light"
     },
     "output_type": "display_data"
    }
   ],
   "source": [
    "cols = ['Oil', 'Condensate', 'NGL', 'Gas(40MJ)']\n",
    "for i in cols:\n",
    "    plt.subplots()\n",
    "    axes = train_data.boxplot(column= [i])\n",
    "plt.show()"
   ]
  },
  {
   "cell_type": "code",
   "execution_count": 333,
   "id": "4ae04a89",
   "metadata": {},
   "outputs": [],
   "source": [
    "corr = train_data.corr()"
   ]
  },
  {
   "cell_type": "code",
   "execution_count": 334,
   "id": "645b71a0",
   "metadata": {},
   "outputs": [
    {
     "data": {
      "text/plain": [
       "<AxesSubplot:>"
      ]
     },
     "execution_count": 334,
     "metadata": {},
     "output_type": "execute_result"
    },
    {
     "data": {
      "image/png": "[encoded data removed]",
      "text/plain": [
       "<Figure size 432x288 with 2 Axes>"
      ]
     },
     "metadata": {
      "needs_background": "light"
     },
     "output_type": "display_data"
    }
   ],
   "source": [
    "sns.heatmap(corr, annot=True)"
   ]
  },
  {
   "cell_type": "code",
   "execution_count": 335,
   "id": "08c61faf",
   "metadata": {
    "scrolled": true
   },
   "outputs": [
    {
     "data": {
      "text/plain": [
       "(52, 10)"
      ]
     },
     "execution_count": 335,
     "metadata": {},
     "output_type": "execute_result"
    }
   ],
   "source": [
    "train_data.shape"
   ]
  },
  {
   "cell_type": "code",
   "execution_count": 336,
   "id": "09ebc120",
   "metadata": {
    "scrolled": true
   },
   "outputs": [
    {
     "data": {
      "text/plain": [
       "Oil                    0\n",
       "Condensate             0\n",
       "NGL                    0\n",
       "Gas(40MJ)              0\n",
       "Total                  0\n",
       "Total liquids          0\n",
       "Total per day          0\n",
       "Liquids per day        0\n",
       "Natural gas per day    0\n",
       "Year                   0\n",
       "dtype: int64"
      ]
     },
     "execution_count": 336,
     "metadata": {},
     "output_type": "execute_result"
    }
   ],
   "source": [
    "train_data.isnull().sum()"
   ]
  },
  {
   "cell_type": "code",
   "execution_count": 337,
   "id": "af890117",
   "metadata": {},
   "outputs": [
    {
     "data": {
      "text/plain": [
       "52"
      ]
     },
     "execution_count": 337,
     "metadata": {},
     "output_type": "execute_result"
    }
   ],
   "source": [
    "df = train_data[['Oil', 'Condensate', 'NGL', 'Gas(40MJ)','Total', 'Total liquids' ]]\n",
    "len(df)"
   ]
  },
  {
   "cell_type": "code",
   "execution_count": 338,
   "id": "de057a2c",
   "metadata": {},
   "outputs": [
    {
     "name": "stdout",
     "output_type": "stream",
     "text": [
      "6\n"
     ]
    },
    {
     "name": "stderr",
     "output_type": "stream",
     "text": [
      "C:\\Users\\samue\\AppData\\Local\\Temp\\ipykernel_14768\\548011141.py:3: SettingWithCopyWarning: \n",
      "A value is trying to be set on a copy of a slice from a DataFrame.\n",
      "Try using .loc[row_indexer,col_indexer] = value instead\n",
      "\n",
      "See the caveats in the documentation: https://pandas.pydata.org/pandas-docs/stable/user_guide/indexing.html#returning-a-view-versus-a-copy\n",
      "  df['label'] = df['Total'].shift(-forecast_out)\n"
     ]
    },
    {
     "data": {
      "text/plain": [
       "Date\n",
       "1970-01-01     16.23\n",
       "1971-01-01     19.36\n",
       "1972-01-01     35.28\n",
       "1973-01-01     44.76\n",
       "1974-01-01     56.35\n",
       "1975-01-01     54.98\n",
       "1976-01-01     54.92\n",
       "1977-01-01     61.54\n",
       "1978-01-01     69.42\n",
       "1979-01-01     73.32\n",
       "1980-01-01     78.83\n",
       "1981-01-01     89.53\n",
       "1982-01-01     98.20\n",
       "1983-01-01    120.01\n",
       "1984-01-01    125.59\n",
       "1985-01-01    139.03\n",
       "1986-01-01    155.51\n",
       "1987-01-01    163.39\n",
       "1988-01-01    183.68\n",
       "1989-01-01    196.97\n",
       "1990-01-01    226.26\n",
       "1991-01-01    233.72\n",
       "1992-01-01    228.24\n",
       "1993-01-01    229.89\n",
       "1994-01-01    241.25\n",
       "1995-01-01    251.62\n",
       "1996-01-01    258.30\n",
       "1997-01-01    261.68\n",
       "1998-01-01    264.19\n",
       "1999-01-01    257.57\n",
       "2000-01-01    249.14\n",
       "2001-01-01    237.55\n",
       "2002-01-01    242.98\n",
       "2003-01-01    240.02\n",
       "2004-01-01    230.64\n",
       "2005-01-01    218.65\n",
       "2006-01-01    224.64\n",
       "2007-01-01    213.70\n",
       "2008-01-01    216.36\n",
       "2009-01-01    227.84\n",
       "2010-01-01    230.66\n",
       "2011-01-01    236.75\n",
       "2012-01-01    227.33\n",
       "2013-01-01    213.99\n",
       "2014-01-01    226.53\n",
       "2015-01-01    230.97\n",
       "2016-01-01       NaN\n",
       "2017-01-01       NaN\n",
       "2018-01-01       NaN\n",
       "2019-01-01       NaN\n",
       "2020-01-01       NaN\n",
       "2021-01-01       NaN\n",
       "Name: label, dtype: float64"
      ]
     },
     "execution_count": 338,
     "metadata": {},
     "output_type": "execute_result"
    }
   ],
   "source": [
    "forecast_out = int(math.ceil(0.10* len(df))) # forcasting out 10% of the entire dataset\n",
    "print(forecast_out)\n",
    "df['label'] = df['Total'].shift(-forecast_out)\n",
    "df['label']"
   ]
  },
  {
   "cell_type": "code",
   "execution_count": 339,
   "id": "f2a1c17c",
   "metadata": {},
   "outputs": [],
   "source": [
    "from sklearn.preprocessing import StandardScaler\n",
    "from sklearn.linear_model import LinearRegression, Ridge\n",
    "from sklearn.ensemble import RandomForestRegressor\n",
    "from sklearn.svm import SVR\n",
    "from sklearn.model_selection import train_test_split\n",
    "from sklearn.metrics import mean_squared_log_error"
   ]
  },
  {
   "cell_type": "code",
   "execution_count": 340,
   "id": "4fd0f35a",
   "metadata": {},
   "outputs": [],
   "source": [
    "scaler = StandardScaler()"
   ]
  },
  {
   "cell_type": "code",
   "execution_count": 341,
   "id": "2ff98376",
   "metadata": {},
   "outputs": [
    {
     "name": "stderr",
     "output_type": "stream",
     "text": [
      "C:\\Users\\samue\\AppData\\Local\\Temp\\ipykernel_14768\\3654747103.py:1: FutureWarning: In a future version of pandas all arguments of DataFrame.drop except for the argument 'labels' will be keyword-only.\n",
      "  X = np.array(df.drop(['label'], 1))\n"
     ]
    }
   ],
   "source": [
    "X = np.array(df.drop(['label'], 1))\n",
    "scaler.fit(X)\n",
    "X = scaler.transform(X)"
   ]
  },
  {
   "cell_type": "code",
   "execution_count": 342,
   "id": "b4669b48",
   "metadata": {},
   "outputs": [
    {
     "data": {
      "text/plain": [
       "array([[ 0.08484843, -0.15619677,  1.64258025,  1.49364713,  0.83371157,\n",
       "         0.24988104],\n",
       "       [ 0.05651629, -0.23618294,  1.67272137,  1.68133367,  0.89939172,\n",
       "         0.22420966],\n",
       "       [-0.04859244, -0.23618294,  1.5392393 ,  1.62104058,  0.79779779,\n",
       "         0.11490942],\n",
       "       [-0.12799238, -0.25436162,  1.23926346,  1.45912447,  0.65392697,\n",
       "         0.009704  ],\n",
       "       [ 0.16337392, -0.39251955,  1.15314599,  1.38278565,  0.78916985,\n",
       "         0.25665324],\n",
       "       [ 0.23927606, -0.59975645,  0.81728787,  1.45596395,  0.83705489,\n",
       "         0.27917476]])"
      ]
     },
     "execution_count": 342,
     "metadata": {},
     "output_type": "execute_result"
    }
   ],
   "source": [
    "X_Predictions = X[-forecast_out:] # data to be predicted\n",
    "X = X[:-forecast_out] # data to be trained\n",
    "X_Predictions"
   ]
  },
  {
   "cell_type": "code",
   "execution_count": 343,
   "id": "87495d55",
   "metadata": {},
   "outputs": [
    {
     "data": {
      "text/plain": [
       "(46, 6)"
      ]
     },
     "execution_count": 343,
     "metadata": {},
     "output_type": "execute_result"
    }
   ],
   "source": [
    "X.shape"
   ]
  },
  {
   "cell_type": "code",
   "execution_count": 344,
   "id": "4cbe360d",
   "metadata": {},
   "outputs": [
    {
     "name": "stderr",
     "output_type": "stream",
     "text": [
      "C:\\Users\\samue\\AppData\\Local\\Temp\\ipykernel_14768\\1379821321.py:1: SettingWithCopyWarning: \n",
      "A value is trying to be set on a copy of a slice from a DataFrame\n",
      "\n",
      "See the caveats in the documentation: https://pandas.pydata.org/pandas-docs/stable/user_guide/indexing.html#returning-a-view-versus-a-copy\n",
      "  df.dropna(inplace=True)\n"
     ]
    }
   ],
   "source": [
    "df.dropna(inplace=True)"
   ]
  },
  {
   "cell_type": "code",
   "execution_count": 346,
   "id": "36108e24",
   "metadata": {},
   "outputs": [
    {
     "data": {
      "text/plain": [
       "(46,)"
      ]
     },
     "execution_count": 346,
     "metadata": {},
     "output_type": "execute_result"
    }
   ],
   "source": [
    "y= np.array(df['label'])\n",
    "y.shape"
   ]
  },
  {
   "cell_type": "code",
   "execution_count": 347,
   "id": "dfd18633",
   "metadata": {},
   "outputs": [],
   "source": [
    "X_train, X_test, y_train, y_test = train_test_split(X, y, test_size=0.2, random_state=42)"
   ]
  },
  {
   "cell_type": "code",
   "execution_count": 348,
   "id": "f8d69c7d",
   "metadata": {},
   "outputs": [
    {
     "data": {
      "text/plain": [
       "LinearRegression()"
      ]
     },
     "execution_count": 348,
     "metadata": {},
     "output_type": "execute_result"
    }
   ],
   "source": [
    "lr = LinearRegression()\n",
    "lr.fit(X_train, y_train)"
   ]
  },
  {
   "cell_type": "code",
   "execution_count": 349,
   "id": "dad3bca0",
   "metadata": {},
   "outputs": [],
   "source": [
    "lr_confidence = lr.score(X_test, y_test)"
   ]
  },
  {
   "cell_type": "code",
   "execution_count": 350,
   "id": "1c125bff",
   "metadata": {},
   "outputs": [
    {
     "data": {
      "text/plain": [
       "0.9728273496721499"
      ]
     },
     "execution_count": 350,
     "metadata": {},
     "output_type": "execute_result"
    }
   ],
   "source": [
    "lr_confidence"
   ]
  },
  {
   "cell_type": "code",
   "execution_count": 351,
   "id": "230d74df",
   "metadata": {},
   "outputs": [
    {
     "data": {
      "text/plain": [
       "RandomForestRegressor()"
      ]
     },
     "execution_count": 351,
     "metadata": {},
     "output_type": "execute_result"
    }
   ],
   "source": [
    "rf = RandomForestRegressor()\n",
    "rf.fit(X_train, y_train)"
   ]
  },
  {
   "cell_type": "code",
   "execution_count": 352,
   "id": "b32839ad",
   "metadata": {},
   "outputs": [],
   "source": [
    "rf_confidence = rf.score(X_test, y_test)"
   ]
  },
  {
   "cell_type": "code",
   "execution_count": 353,
   "id": "13c8c74d",
   "metadata": {},
   "outputs": [
    {
     "data": {
      "text/plain": [
       "0.9773474278176959"
      ]
     },
     "execution_count": 353,
     "metadata": {},
     "output_type": "execute_result"
    }
   ],
   "source": [
    "rf_confidence"
   ]
  },
  {
   "cell_type": "code",
   "execution_count": 354,
   "id": "f76fa705",
   "metadata": {},
   "outputs": [
    {
     "data": {
      "text/plain": [
       "Ridge()"
      ]
     },
     "execution_count": 354,
     "metadata": {},
     "output_type": "execute_result"
    }
   ],
   "source": [
    "rg = Ridge()\n",
    "rg.fit(X_train, y_train)"
   ]
  },
  {
   "cell_type": "code",
   "execution_count": 355,
   "id": "5c3db434",
   "metadata": {},
   "outputs": [],
   "source": [
    "rg_confidence = rg.score(X_test, y_test)"
   ]
  },
  {
   "cell_type": "code",
   "execution_count": 356,
   "id": "afa304e4",
   "metadata": {},
   "outputs": [
    {
     "data": {
      "text/plain": [
       "0.9784613861417594"
      ]
     },
     "execution_count": 356,
     "metadata": {},
     "output_type": "execute_result"
    }
   ],
   "source": [
    "\n",
    "rg_confidence"
   ]
  },
  {
   "cell_type": "code",
   "execution_count": 357,
   "id": "eeaaa7ee",
   "metadata": {},
   "outputs": [
    {
     "data": {
      "text/plain": [
       "SVR()"
      ]
     },
     "execution_count": 357,
     "metadata": {},
     "output_type": "execute_result"
    }
   ],
   "source": [
    "svr = SVR()\n",
    "svr.fit(X_train, y_train)"
   ]
  },
  {
   "cell_type": "code",
   "execution_count": 358,
   "id": "bff1c5e5",
   "metadata": {},
   "outputs": [],
   "source": [
    "svr_confidence = svr.score(X_test, y_test)"
   ]
  },
  {
   "cell_type": "code",
   "execution_count": 359,
   "id": "d8bd7538",
   "metadata": {},
   "outputs": [
    {
     "data": {
      "text/plain": [
       "-0.022740989049405913"
      ]
     },
     "execution_count": 359,
     "metadata": {},
     "output_type": "execute_result"
    }
   ],
   "source": [
    "svr_confidence"
   ]
  },
  {
   "cell_type": "code",
   "execution_count": 360,
   "id": "60825ea3",
   "metadata": {},
   "outputs": [
    {
     "data": {
      "text/html": [
       "<div>\n",
       "<style scoped>\n",
       "    .dataframe tbody tr th:only-of-type {\n",
       "        vertical-align: middle;\n",
       "    }\n",
       "\n",
       "    .dataframe tbody tr th {\n",
       "        vertical-align: top;\n",
       "    }\n",
       "\n",
       "    .dataframe thead th {\n",
       "        text-align: right;\n",
       "    }\n",
       "</style>\n",
       "<table border=\"1\" class=\"dataframe\">\n",
       "  <thead>\n",
       "    <tr style=\"text-align: right;\">\n",
       "      <th></th>\n",
       "      <th>model</th>\n",
       "      <th>accuracy</th>\n",
       "    </tr>\n",
       "  </thead>\n",
       "  <tbody>\n",
       "    <tr>\n",
       "      <th>0</th>\n",
       "      <td>Linear Regression</td>\n",
       "      <td>0.972827</td>\n",
       "    </tr>\n",
       "    <tr>\n",
       "      <th>1</th>\n",
       "      <td>Random Forest</td>\n",
       "      <td>0.977347</td>\n",
       "    </tr>\n",
       "    <tr>\n",
       "      <th>2</th>\n",
       "      <td>Ridge</td>\n",
       "      <td>0.978461</td>\n",
       "    </tr>\n",
       "    <tr>\n",
       "      <th>3</th>\n",
       "      <td>SVR</td>\n",
       "      <td>-0.022741</td>\n",
       "    </tr>\n",
       "  </tbody>\n",
       "</table>\n",
       "</div>"
      ],
      "text/plain": [
       "               model  accuracy\n",
       "0  Linear Regression  0.972827\n",
       "1      Random Forest  0.977347\n",
       "2              Ridge  0.978461\n",
       "3                SVR -0.022741"
      ]
     },
     "execution_count": 360,
     "metadata": {},
     "output_type": "execute_result"
    }
   ],
   "source": [
    "names = ['Linear Regression', 'Random Forest', 'Ridge', 'SVR']\n",
    "columns = ['model', 'accuracy']\n",
    "scores = [lr_confidence, rf_confidence, rg_confidence, svr_confidence]\n",
    "alg_vs_score = pd.DataFrame([[x, y] for x, y in zip(names, scores)], columns = columns)\n",
    "alg_vs_score"
   ]
  },
  {
   "cell_type": "code",
   "execution_count": 361,
   "id": "1eda4bc7",
   "metadata": {},
   "outputs": [
    {
     "data": {
      "text/plain": [
       "(array([0, 1, 2, 3]),\n",
       " [Text(0, 0, 'Linear Regression'),\n",
       "  Text(1, 0, 'Random Forest'),\n",
       "  Text(2, 0, 'Ridge'),\n",
       "  Text(3, 0, 'SVR')])"
      ]
     },
     "execution_count": 361,
     "metadata": {},
     "output_type": "execute_result"
    },
    {
     "data": {
      "image/png": "[encoded data removed]",
      "text/plain": [
       "<Figure size 432x288 with 1 Axes>"
      ]
     },
     "metadata": {
      "needs_background": "light"
     },
     "output_type": "display_data"
    }
   ],
   "source": [
    "sns.barplot(data = alg_vs_score, x='model', y='accuracy' )\n",
    "plt.title('Performance of Different Models')\n",
    "plt.xticks(rotation='vertical')"
   ]
  },
  {
   "cell_type": "code",
   "execution_count": 362,
   "id": "87623d91",
   "metadata": {
    "scrolled": true
   },
   "outputs": [],
   "source": [
    "last_date = df.index[-1] #getting the lastdate in the dataset\n",
    "last_unix = last_date.timestamp() #converting it to time in seconds\n",
    "one_year = 31536000 #one day equals 86400 seconds\n",
    "next_unix = last_unix + one_year # getting the time in seconds for the next day"
   ]
  },
  {
   "cell_type": "code",
   "execution_count": 363,
   "id": "e8fa936f",
   "metadata": {},
   "outputs": [
    {
     "name": "stderr",
     "output_type": "stream",
     "text": [
      "C:\\Users\\samue\\AppData\\Local\\Temp\\ipykernel_14768\\312354264.py:2: SettingWithCopyWarning: \n",
      "A value is trying to be set on a copy of a slice from a DataFrame.\n",
      "Try using .loc[row_indexer,col_indexer] = value instead\n",
      "\n",
      "See the caveats in the documentation: https://pandas.pydata.org/pandas-docs/stable/user_guide/indexing.html#returning-a-view-versus-a-copy\n",
      "  df['Forecast'] = np.nan\n"
     ]
    }
   ],
   "source": [
    "forecast_set = rf.predict(X_Predictions) # predicting forecast data\n",
    "df['Forecast'] = np.nan"
   ]
  },
  {
   "cell_type": "code",
   "execution_count": 364,
   "id": "032438d0",
   "metadata": {},
   "outputs": [
    {
     "name": "stderr",
     "output_type": "stream",
     "text": [
      "C:\\Users\\samue\\AppData\\Local\\Temp\\ipykernel_14768\\2568901451.py:4: SettingWithCopyWarning: \n",
      "A value is trying to be set on a copy of a slice from a DataFrame\n",
      "\n",
      "See the caveats in the documentation: https://pandas.pydata.org/pandas-docs/stable/user_guide/indexing.html#returning-a-view-versus-a-copy\n",
      "  df.loc[next_date] = [np.nan for _ in range(len(df.columns)-1)]+[i]\n",
      "C:\\Users\\samue\\AppData\\Local\\Temp\\ipykernel_14768\\2568901451.py:4: SettingWithCopyWarning: \n",
      "A value is trying to be set on a copy of a slice from a DataFrame\n",
      "\n",
      "See the caveats in the documentation: https://pandas.pydata.org/pandas-docs/stable/user_guide/indexing.html#returning-a-view-versus-a-copy\n",
      "  df.loc[next_date] = [np.nan for _ in range(len(df.columns)-1)]+[i]\n",
      "C:\\Users\\samue\\AppData\\Local\\Temp\\ipykernel_14768\\2568901451.py:4: SettingWithCopyWarning: \n",
      "A value is trying to be set on a copy of a slice from a DataFrame\n",
      "\n",
      "See the caveats in the documentation: https://pandas.pydata.org/pandas-docs/stable/user_guide/indexing.html#returning-a-view-versus-a-copy\n",
      "  df.loc[next_date] = [np.nan for _ in range(len(df.columns)-1)]+[i]\n",
      "C:\\Users\\samue\\AppData\\Local\\Temp\\ipykernel_14768\\2568901451.py:4: SettingWithCopyWarning: \n",
      "A value is trying to be set on a copy of a slice from a DataFrame\n",
      "\n",
      "See the caveats in the documentation: https://pandas.pydata.org/pandas-docs/stable/user_guide/indexing.html#returning-a-view-versus-a-copy\n",
      "  df.loc[next_date] = [np.nan for _ in range(len(df.columns)-1)]+[i]\n",
      "C:\\Users\\samue\\AppData\\Local\\Temp\\ipykernel_14768\\2568901451.py:4: SettingWithCopyWarning: \n",
      "A value is trying to be set on a copy of a slice from a DataFrame\n",
      "\n",
      "See the caveats in the documentation: https://pandas.pydata.org/pandas-docs/stable/user_guide/indexing.html#returning-a-view-versus-a-copy\n",
      "  df.loc[next_date] = [np.nan for _ in range(len(df.columns)-1)]+[i]\n",
      "C:\\Users\\samue\\AppData\\Local\\Temp\\ipykernel_14768\\2568901451.py:4: SettingWithCopyWarning: \n",
      "A value is trying to be set on a copy of a slice from a DataFrame\n",
      "\n",
      "See the caveats in the documentation: https://pandas.pydata.org/pandas-docs/stable/user_guide/indexing.html#returning-a-view-versus-a-copy\n",
      "  df.loc[next_date] = [np.nan for _ in range(len(df.columns)-1)]+[i]\n"
     ]
    }
   ],
   "source": [
    "for i in forecast_set:\n",
    "    next_date = datetime.datetime.fromtimestamp(next_unix)\n",
    "    next_unix += 31536000\n",
    "    df.loc[next_date] = [np.nan for _ in range(len(df.columns)-1)]+[i]"
   ]
  },
  {
   "cell_type": "code",
   "execution_count": 365,
   "id": "1d36b575",
   "metadata": {},
   "outputs": [
    {
     "data": {
      "image/png": "[encoded data removed]",
      "text/plain": [
       "<Figure size 720x720 with 1 Axes>"
      ]
     },
     "metadata": {
      "needs_background": "light"
     },
     "output_type": "display_data"
    }
   ],
   "source": [
    "plt.figure(figsize=(10, 10))\n",
    "df['Total'].plot()\n",
    "df['Forecast'].plot()\n",
    "plt.legend(loc=10)\n",
    "plt.xlabel('Date')\n",
    "plt.ylabel('Total')\n",
    "plt.show()"
   ]
  },
  {
   "cell_type": "code",
   "execution_count": 366,
   "id": "02e5035a",
   "metadata": {},
   "outputs": [
    {
     "data": {
      "text/plain": [
       "<AxesSubplot:xlabel='Date'>"
      ]
     },
     "execution_count": 366,
     "metadata": {},
     "output_type": "execute_result"
    },
    {
     "data": {
      "image/png": "[encoded data removed]",
      "text/plain": [
       "<Figure size 432x288 with 1 Axes>"
      ]
     },
     "metadata": {
      "needs_background": "light"
     },
     "output_type": "display_data"
    }
   ],
   "source": [
    "df['Forecast'].plot()"
   ]
  },
  {
   "cell_type": "code",
   "execution_count": 367,
   "id": "7b1ead60",
   "metadata": {},
   "outputs": [
    {
     "name": "stdout",
     "output_type": "stream",
     "text": [
      "Date\n",
      "1970-01-01 00:00:00         NaN\n",
      "1971-01-01 00:00:00         NaN\n",
      "1972-01-01 00:00:00         NaN\n",
      "1973-01-01 00:00:00         NaN\n",
      "1974-01-01 00:00:00         NaN\n",
      "1975-01-01 00:00:00         NaN\n",
      "1976-01-01 00:00:00         NaN\n",
      "1977-01-01 00:00:00         NaN\n",
      "1978-01-01 00:00:00         NaN\n",
      "1979-01-01 00:00:00         NaN\n",
      "1980-01-01 00:00:00         NaN\n",
      "1981-01-01 00:00:00         NaN\n",
      "1982-01-01 00:00:00         NaN\n",
      "1983-01-01 00:00:00         NaN\n",
      "1984-01-01 00:00:00         NaN\n",
      "1985-01-01 00:00:00         NaN\n",
      "1986-01-01 00:00:00         NaN\n",
      "1987-01-01 00:00:00         NaN\n",
      "1988-01-01 00:00:00         NaN\n",
      "1989-01-01 00:00:00         NaN\n",
      "1990-01-01 00:00:00         NaN\n",
      "1991-01-01 00:00:00         NaN\n",
      "1992-01-01 00:00:00         NaN\n",
      "1993-01-01 00:00:00         NaN\n",
      "1994-01-01 00:00:00         NaN\n",
      "1995-01-01 00:00:00         NaN\n",
      "1996-01-01 00:00:00         NaN\n",
      "1997-01-01 00:00:00         NaN\n",
      "1998-01-01 00:00:00         NaN\n",
      "1999-01-01 00:00:00         NaN\n",
      "2000-01-01 00:00:00         NaN\n",
      "2001-01-01 00:00:00         NaN\n",
      "2002-01-01 00:00:00         NaN\n",
      "2003-01-01 00:00:00         NaN\n",
      "2004-01-01 00:00:00         NaN\n",
      "2005-01-01 00:00:00         NaN\n",
      "2006-01-01 00:00:00         NaN\n",
      "2007-01-01 00:00:00         NaN\n",
      "2008-01-01 00:00:00         NaN\n",
      "2009-01-01 00:00:00         NaN\n",
      "2010-01-01 00:00:00         NaN\n",
      "2011-01-01 00:00:00         NaN\n",
      "2012-01-01 00:00:00         NaN\n",
      "2013-01-01 00:00:00         NaN\n",
      "2014-01-01 00:00:00         NaN\n",
      "2015-01-01 00:00:00         NaN\n",
      "2016-01-01 01:00:00    226.3286\n",
      "2016-12-31 01:00:00    225.0397\n",
      "2017-12-31 01:00:00    219.8908\n",
      "2018-12-31 01:00:00    218.5064\n",
      "2019-12-31 01:00:00    224.0924\n",
      "2020-12-30 01:00:00    229.2629\n",
      "Name: Forecast, dtype: float64\n"
     ]
    }
   ],
   "source": [
    "print (df['Forecast'])"
   ]
  },
  {
   "cell_type": "code",
   "execution_count": null,
   "id": "0c6018a3",
   "metadata": {},
   "outputs": [],
   "source": []
  }
 ],
 "metadata": {
  "kernelspec": {
   "display_name": "Python 3 (ipykernel)",
   "language": "python",
   "name": "python3"
  },
  "language_info": {
   "codemirror_mode": {
    "name": "ipython",
    "version": 3
   },
   "file_extension": ".py",
   "mimetype": "text/x-python",
   "name": "python",
   "nbconvert_exporter": "python",
   "pygments_lexer": "ipython3",
   "version": "3.9.12"
  }
 },
 "nbformat": 4,
 "nbformat_minor": 5
}
